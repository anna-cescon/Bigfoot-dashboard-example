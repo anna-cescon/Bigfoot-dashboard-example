{
 "cells": [
  {
   "cell_type": "markdown",
   "metadata": {},
   "source": [
    "# Bigfoot dashboard example using JupyterDash\n",
    "\n",
    "This example has been created following the tutorial at https://timothyrenner.github.io/datascience/2017/08/08/finding-bigfoot-with-dash-part-1.html\n",
    "The dashboard is created via JupyterDash rather than dash, which also allows visualisation within jupyter lab or inline."
   ]
  },
  {
   "cell_type": "code",
   "execution_count": null,
   "metadata": {},
   "outputs": [],
   "source": [
    "from jupyter_dash import JupyterDash\n",
    "import pandas as pd\n",
    "import os\n",
    "import dash_core_components as dcc\n",
    "import dash_html_components as html\n",
    "from dash.dependencies import Input, Output\n",
    "\n",
    "#the external stylesheet is needed to be able to have the different columns,\n",
    "#otherwise it adds everything in rows\n",
    "external_stylesheets = ['https://codepen.io/chriddyp/pen/bWLwgP.css']\n",
    "app = JupyterDash(__name__, external_stylesheets=external_stylesheets) "
   ]
  },
  {
   "cell_type": "code",
   "execution_count": null,
   "metadata": {},
   "outputs": [],
   "source": [
    "#loading the data, from the same folder\n",
    "BFRO_DATA = pd.read_csv('bfro_report_locations.csv')\n",
    "BFRO_DATA['timestamp'] = pd.to_datetime(BFRO_DATA['timestamp'])"
   ]
  },
  {
   "cell_type": "code",
   "execution_count": null,
   "metadata": {},
   "outputs": [],
   "source": [
    "#creating a day of the week and a year column for the graphs\n",
    "year_t = []\n",
    "day_t = []\n",
    "for index,row in BFRO_DATA.iterrows():\n",
    "    year_t.append(row['timestamp'].year)\n",
    "    day_t.append(row['timestamp'].weekday())\n",
    "BFRO_DATA['year'] = year_t\n",
    "BFRO_DATA['day'] = day_t"
   ]
  },
  {
   "cell_type": "code",
   "execution_count": null,
   "metadata": {},
   "outputs": [],
   "source": [
    "#layout and data for the map; the open street map is\n",
    "#one of the maps that do not require a token\n",
    "def bigfoot_map(sightings):\n",
    "    return{'data':[{'type': 'scattermapbox', \n",
    "                    'lat': sightings[sightings['classification']==i]['latitude'],\n",
    "                    'lon': sightings[sightings['classification']==i]['longitude'], \n",
    "                    'text': sightings[sightings['classification']==i]['title'],\n",
    "                    'mode': 'markers', 'name': i, \n",
    "                    'marker':{'size': 3, 'opacity': 1.0}\n",
    "                    } for i in sightings.classification.unique()],\n",
    "           'layout':{'autosize': True, 'hovermode':'closest', \n",
    "                     'mapbox':{'style': 'open-street-map', \n",
    "                               'center':{'lat': 40, 'lon': -98.5},\n",
    "                               'zoom': 2}}}"
   ]
  },
  {
   "cell_type": "code",
   "execution_count": null,
   "metadata": {},
   "outputs": [],
   "source": [
    "#layout and data for the sighting by year chart; it starts with grouping \n",
    "#by year and classification and then filtering to exclude outliers in the years                              \n",
    "def bigfoot_byyear(sightings):\n",
    "    sightings_byyear = sightings.groupby(['classification','year'])['number'].count()\n",
    "    sightings_byyear = pd.DataFrame(sightings_byyear).reset_index()\n",
    "    sightings_byyear = sightings_byyear[(sightings_byyear['year']>=1900) &\n",
    "                                        (sightings_byyear['year']<=2017)]\n",
    "    return{'data':[{'type': 'scatter', 'mode': 'lines+markers','name': i, \n",
    "                   'x': sightings_byyear[sightings_byyear['classification']==i]['year'],\n",
    "                   'y': sightings_byyear[sightings_byyear['classification']==i]['number']}\n",
    "           for i in sightings_byyear.classification.unique()],\n",
    "           'layout':{'title': 'Sightings by year', 'showlegend': False}}"
   ]
  },
  {
   "cell_type": "code",
   "execution_count": null,
   "metadata": {},
   "outputs": [],
   "source": [
    "#layout and data for the sightings by day of the week\n",
    "def bigfoot_dow(sightings):\n",
    "    sightings_bydow = sightings.groupby('day')['number'].count()\n",
    "    sightings_bydow = pd.DataFrame(sightings_bydow).reset_index()\n",
    "    sightings_bydow['day2'] = ['Sun', 'Mon', 'Tue', 'Wed', 'Thu', 'Fri', 'Sat']\n",
    "    return{'data':[{'type': 'bar', 'x': sightings_bydow['day2'],\n",
    "                    'y': sightings_bydow['number']}],\n",
    "           'layout':{'title': 'Sightings by day of the week'}}"
   ]
  },
  {
   "cell_type": "code",
   "execution_count": null,
   "metadata": {},
   "outputs": [],
   "source": [
    "#layout and data for the donut chart with sightings by classification\n",
    "def bigfoot_class(sightings):\n",
    "    sightings_class = sightings.groupby('classification')['number'].count()\n",
    "    sightings_class = pd.DataFrame(sightings_class).reset_index()\n",
    "    return{'data':[{'type': 'pie', 'labels': sightings_class['classification'],\n",
    "                    'values': sightings_class['number'], 'hole': 0.4}],\n",
    "           'layout':{'title': 'Sightings by classification'}}"
   ]
  },
  {
   "cell_type": "code",
   "execution_count": null,
   "metadata": {},
   "outputs": [],
   "source": [
    "#adding the componenets to the layout\n",
    "#first the overall container, followed by each row, and then columns\n",
    "#within each row\n",
    "app.title = 'Bigfoot sightings'\n",
    "app.layout = html.Div([html.Div([html.Div([html.H1('Bigfoot Sightings',\n",
    "                                                   className='text-center')],\n",
    "                                          className='twelve columns')],\n",
    "                                className='row'),\n",
    "                       html.Div([html.Div([html.P([html.B('Filter the titles: '),\n",
    "                                                   dcc.Input(placeholder=\n",
    "                                                             'Try \"heard\"',\n",
    "                                                             id='bigfoot-filter',\n",
    "                                                             value='')])],\n",
    "                                          className='six columns'),\n",
    "                                 html.Div([html.P(['Data pulled from ',\n",
    "                                                   html.A('bfro.net', \n",
    "                                                          href='http://www.bfro.net/')],\n",
    "                                                  style={'text-align': 'right'})],\n",
    "                                          className='six columns')],\n",
    "                                className='row'),\n",
    "                       html.Div([html.Div([dcc.Graph(id='bigfoot-map')],\n",
    "                                          className='eight columns'),\n",
    "                                 html.Div([dcc.Graph(id='bigfoot-dow')],\n",
    "                                          className='four columns')],\n",
    "                                className='row'),\n",
    "                       html.Div([html.Div([dcc.Graph(id='bigfoot-year')],\n",
    "                                          className='eight columns'),\n",
    "                                 html.Div([dcc.Graph(id='bigfoot-class')],\n",
    "                                          className='four columns')],\n",
    "                                className='row')], \n",
    "                      className='container-fluid')"
   ]
  },
  {
   "cell_type": "code",
   "execution_count": null,
   "metadata": {},
   "outputs": [],
   "source": [
    "#adding the various callbacks required for filtering and tailoring the dashboard\n",
    "@app.callback(Output('bigfoot-map', 'figure'), \n",
    "              [Input('bigfoot-filter', 'value')])\n",
    "def filter_map(filter_text):\n",
    "    filtered = BFRO_DATA[BFRO_DATA['title'].str.contains(filter_text.lower())]\n",
    "    return bigfoot_map(filtered)\n",
    "\n",
    "@app.callback(Output('bigfoot-year', 'figure'),\n",
    "              [Input('bigfoot-filter', 'value')])\n",
    "def filter_year(filter_text):\n",
    "    filtered = BFRO_DATA[BFRO_DATA['title'].str.contains(filter_text.lower())]\n",
    "    return bigfoot_byyear(filtered)\n",
    "\n",
    "@app.callback(Output('bigfoot-dow', 'figure'),\n",
    "              [Input('bigfoot-filter', 'value')])\n",
    "def filter_dow(filter_text):\n",
    "    filtered = BFRO_DATA[BFRO_DATA['title'].str.contains(filter_text.lower())]\n",
    "    return bigfoot_dow(filtered)\n",
    "\n",
    "@app.callback(Output('bigfoot-class', 'figure'),\n",
    "              [Input('bigfoot-filter', 'value')])\n",
    "def filter_class(filter_text):\n",
    "    filtered = BFRO_DATA[BFRO_DATA['title'].str.contains(filter_text.lower())]\n",
    "    return bigfoot_class(filtered)"
   ]
  },
  {
   "cell_type": "code",
   "execution_count": null,
   "metadata": {},
   "outputs": [],
   "source": [
    "#by using mode='jupyterlab', it can be run in jupyter lab\n",
    "app.run_server(mode='external', port = 8090, dev_tools_ui=True, #debug=True,\n",
    "                  dev_tools_hot_reload =True, threaded=True)"
   ]
  }
 ],
 "metadata": {
  "kernelspec": {
   "display_name": "Python 3",
   "language": "python",
   "name": "python3"
  },
  "language_info": {
   "codemirror_mode": {
    "name": "ipython",
    "version": 3
   },
   "file_extension": ".py",
   "mimetype": "text/x-python",
   "name": "python",
   "nbconvert_exporter": "python",
   "pygments_lexer": "ipython3",
   "version": "3.9.0"
  }
 },
 "nbformat": 4,
 "nbformat_minor": 4
}
